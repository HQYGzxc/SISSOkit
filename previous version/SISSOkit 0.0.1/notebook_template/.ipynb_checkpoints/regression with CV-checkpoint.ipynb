{
 "cells": [
  {
   "cell_type": "markdown",
   "metadata": {},
   "source": [
    "# Import Module and Load Data"
   ]
  },
  {
   "cell_type": "code",
   "execution_count": null,
   "metadata": {},
   "outputs": [],
   "source": [
    "import pandas as pd\n",
    "import numpy as np\n",
    "import matplotlib.pyplot as plt\n",
    "import functools\n",
    "import os\n",
    "\n",
    "%matplotlib inline\n",
    "\n",
    "import SISSO_analysis.evaluation as evl\n",
    "import SISSO_analysis.plot as plot\n",
    "import SISSO_analysis.utils as utils\n",
    "pd.options.display.max_columns, pd.options.display.max_rows = None,None"
   ]
  },
  {
   "cell_type": "code",
   "execution_count": null,
   "metadata": {},
   "outputs": [],
   "source": [
    "path=\n",
    "cv_path=\n",
    "ST=evl.Regression(path)\n",
    "ST_cv=evl.RegressionCV(cv_path)"
   ]
  },
  {
   "cell_type": "markdown",
   "metadata": {},
   "source": [
    "# Contents of This Report"
   ]
  },
  {
   "cell_type": "markdown",
   "metadata": {},
   "source": [
    "In the following, there will be the results of:\n",
    "1. Baseline\n",
    "1. Training over whole data set:\n",
    "    1. Descriptors\n",
    "    1. Training errors\n",
    "1. Cross validation results\n",
    "    1. Training errors\n",
    "    1. Prediction errors\n",
    "\n",
    "In the supplementary information:\n",
    "1. Whole data set\n",
    "1. Features\n",
    "1. Operation set\n",
    "1. Feature importance"
   ]
  },
  {
   "cell_type": "markdown",
   "metadata": {},
   "source": [
    "# Baseline"
   ]
  },
  {
   "cell_type": "markdown",
   "metadata": {},
   "source": [
    "Baseline means the model that uses mean value as the prediction of every sample, i.e., prediction = mean(property).\n",
    "\n",
    "In this model, RMSE is the standard deviation of property."
   ]
  },
  {
   "cell_type": "code",
   "execution_count": null,
   "metadata": {},
   "outputs": [],
   "source": [
    "ST.baseline"
   ]
  },
  {
   "cell_type": "code",
   "execution_count": null,
   "metadata": {},
   "outputs": [],
   "source": [
    "plt.figure(figsize = (14, 7))\n",
    "plot.baselineplot(ST,bins=50,marker_y=3,marker_shape=500)"
   ]
  },
  {
   "cell_type": "markdown",
   "metadata": {},
   "source": [
    "# Training over whole data set"
   ]
  },
  {
   "cell_type": "markdown",
   "metadata": {},
   "source": [
    "## Descriptors"
   ]
  },
  {
   "cell_type": "code",
   "execution_count": null,
   "metadata": {},
   "outputs": [],
   "source": [
    "ST.descriptors"
   ]
  },
  {
   "cell_type": "markdown",
   "metadata": {},
   "source": [
    "Models:\n",
    "\n"
   ]
  },
  {
   "cell_type": "markdown",
   "metadata": {},
   "source": [
    "## Training Errors"
   ]
  },
  {
   "cell_type": "code",
   "execution_count": null,
   "metadata": {},
   "outputs": [],
   "source": [
    "plt.figure(figsize = (10, 7))\n",
    "plot.abs_errors_vs_dimension(ST,selected_errors=('RMSE',))\n",
    "plt.plot([1,5],[ST.baseline[1],ST.baseline[1]],'--',label='Baseline')\n",
    "plt.legend()"
   ]
  },
  {
   "cell_type": "code",
   "execution_count": null,
   "metadata": {},
   "outputs": [],
   "source": [
    "ST.total_errors(display_baseline=True)"
   ]
  },
  {
   "cell_type": "markdown",
   "metadata": {},
   "source": [
    "# Cross Validation Results"
   ]
  },
  {
   "cell_type": "markdown",
   "metadata": {},
   "source": [
    "When using SISSO_analysis.cross_validation to generate CV files, whole data set is divided into 2 files: 'train.dat' for training and 'validation.dat' for cross validation.\n",
    "\n",
    "You should use SISSO to training each CV file and you will get model for each CV file.\n",
    "\n",
    "Training errors are the average training error over all CV files, and training errors of each CV file are the training errors over corresponding 'train.dat'.\n",
    "\n",
    "Prediction errors are the average prediction error over all CV files, and prediction errors of each CV file are the errors using model found by SISSO on the basis of 'train.dat' to predict property of samples in 'validation.dat'."
   ]
  },
  {
   "cell_type": "markdown",
   "metadata": {},
   "source": [
    "## Training Errors"
   ]
  },
  {
   "cell_type": "code",
   "execution_count": null,
   "metadata": {},
   "outputs": [],
   "source": [
    "plt.figure(figsize = (10, 7))\n",
    "plot.abs_errors_vs_dimension(ST_cv,selected_errors=('RMSE',),label='rung = 2')\n",
    "plt.plot([1,5],[ST.baseline[1],ST.baseline[1]],'--',label='Baseline')\n",
    "plt.legend()"
   ]
  },
  {
   "cell_type": "code",
   "execution_count": null,
   "metadata": {},
   "outputs": [],
   "source": [
    "ST_cv.total_errors(display_baseline=True)"
   ]
  },
  {
   "cell_type": "markdown",
   "metadata": {},
   "source": [
    "## Prediction Errors"
   ]
  },
  {
   "cell_type": "code",
   "execution_count": null,
   "metadata": {},
   "outputs": [],
   "source": [
    "ST_cv.total_errors(training=False,display_baseline=True)"
   ]
  },
  {
   "cell_type": "code",
   "execution_count": null,
   "metadata": {},
   "outputs": [],
   "source": [
    "plt.figure(figsize = (10, 7))\n",
    "plot.abs_errors_vs_dimension(ST_cv,training=False,selected_errors=('RMSE',),label='rung = 2')\n",
    "plt.plot([1,5],[ST.baseline[1],ST.baseline[1]],'--',label='Baseline')\n",
    "plt.legend()"
   ]
  },
  {
   "cell_type": "code",
   "execution_count": null,
   "metadata": {},
   "outputs": [],
   "source": [
    "plt.figure(figsize=(20,30))\n",
    "for i in range(1,6):\n",
    "    plt.subplot(5,3,(i-1)*3+1)\n",
    "    plot.error_hist(i,ST_cv,abs=False,training=False,rwidth=0.8)\n",
    "    plt.subplot(5,3,(i-1)*3+2)\n",
    "    plot.property_vs_prediction(i,ST_cv,training=False)\n",
    "    plt.subplot(5,3,(i-1)*3+3)\n",
    "    plot.hist_and_box_plot(i,ST_cv,training=False, bins=20, alpha=0.5, rwidth=0.8,marker_x=10)"
   ]
  },
  {
   "cell_type": "code",
   "execution_count": null,
   "metadata": {},
   "outputs": [],
   "source": [
    "plt.figure(figsize=(20,10))\n",
    "plot.boxplot(ST_cv,training=False)"
   ]
  },
  {
   "cell_type": "markdown",
   "metadata": {},
   "source": [
    "# Supplementary Information"
   ]
  },
  {
   "cell_type": "markdown",
   "metadata": {},
   "source": [
    "## Whole Data Set"
   ]
  },
  {
   "cell_type": "code",
   "execution_count": null,
   "metadata": {},
   "outputs": [],
   "source": [
    "ST.data"
   ]
  },
  {
   "cell_type": "markdown",
   "metadata": {},
   "source": [
    "## Features"
   ]
  },
  {
   "cell_type": "code",
   "execution_count": null,
   "metadata": {},
   "outputs": [],
   "source": [
    "ST.features_name"
   ]
  },
  {
   "cell_type": "markdown",
   "metadata": {},
   "source": [
    "## Operation Set"
   ]
  },
  {
   "cell_type": "code",
   "execution_count": null,
   "metadata": {},
   "outputs": [],
   "source": [
    "ST.operation_set"
   ]
  },
  {
   "cell_type": "markdown",
   "metadata": {},
   "source": [
    "## Feature Importance"
   ]
  },
  {
   "cell_type": "code",
   "execution_count": null,
   "metadata": {},
   "outputs": [],
   "source": [
    "ST.features_percent().T.sort_values('percent',ascending=False)"
   ]
  },
  {
   "cell_type": "code",
   "execution_count": null,
   "metadata": {},
   "outputs": [],
   "source": []
  }
 ],
 "metadata": {
  "kernelspec": {
   "display_name": "Python [conda env:root] *",
   "language": "python",
   "name": "conda-root-py"
  },
  "language_info": {
   "codemirror_mode": {
    "name": "ipython",
    "version": 3
   },
   "file_extension": ".py",
   "mimetype": "text/x-python",
   "name": "python",
   "nbconvert_exporter": "python",
   "pygments_lexer": "ipython3",
   "version": "3.7.3"
  }
 },
 "nbformat": 4,
 "nbformat_minor": 2
}
